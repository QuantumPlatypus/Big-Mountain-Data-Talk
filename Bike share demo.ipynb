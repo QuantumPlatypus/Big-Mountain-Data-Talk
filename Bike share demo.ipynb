{
 "cells": [
  {
   "cell_type": "markdown",
   "metadata": {},
   "source": [
    "# Bike share pyspark walkthrough for SQL Saturday talk"
   ]
  },
  {
   "cell_type": "markdown",
   "metadata": {},
   "source": [
    "## Obtain"
   ]
  },
  {
   "cell_type": "code",
   "execution_count": 1,
   "metadata": {
    "collapsed": true
   },
   "outputs": [],
   "source": [
    "data_path = \"hdfs:///user//hadoop//data//bike_sharing.csv\"\n",
    "header_path = \"hdfs:///user//hadoop//data//bike_sharing_headers.csv\""
   ]
  },
  {
   "cell_type": "markdown",
   "metadata": {},
   "source": [
    "### Read into RDD"
   ]
  },
  {
   "cell_type": "code",
   "execution_count": 2,
   "metadata": {
    "collapsed": false
   },
   "outputs": [
    {
     "name": "stdout",
     "output_type": "stream",
     "text": [
      "[u'instant,dteday,season,yr,mnth,hr,holiday,weekday,workingday,weathersit,temp,atemp,hum,windspeed,casual,registered,cnt', u'1,1/1/11,spring,0,1,0,0,6,0,clear,0.24,0.2879,0.81,0,3,13,16']\n"
     ]
    }
   ],
   "source": [
    "header_rdd = sc.textFile(header_path).filter(lambda x: x != \"\")\n",
    "\n",
    "plaintext_rdd = sc.textFile(data_path).filter(lambda x: x != \"\")\n",
    "\n",
    "plaintext_rdd = header_rdd.union(plaintext_rdd)\n",
    "\n",
    "print plaintext_rdd.take(2)\n"
   ]
  },
  {
   "cell_type": "markdown",
   "metadata": {},
   "source": [
    "### Convert RDD to Dataframe"
   ]
  },
  {
   "cell_type": "code",
   "execution_count": 3,
   "metadata": {
    "collapsed": false
   },
   "outputs": [],
   "source": [
    "import pyspark_csv_mod as pycsv\n",
    "sc.addPyFile('pyspark_csv_mod.py')"
   ]
  },
  {
   "cell_type": "code",
   "execution_count": 4,
   "metadata": {
    "collapsed": false
   },
   "outputs": [
    {
     "data": {
      "text/plain": [
       "Row(instant=1, dteday=u'1/1/11', season=u'spring', yr=0, mnth=1, hr=0, holiday=0, weekday=6, workingday=0, weathersit=u'clear', temp=0.24, atemp=0.2879, hum=0.81, windspeed=0.0, casual=3, registered=13, cnt=16)"
      ]
     },
     "execution_count": 4,
     "metadata": {},
     "output_type": "execute_result"
    }
   ],
   "source": [
    "dataframe = pycsv.csvToDataFrame(sqlCtx, plaintext_rdd, \n",
    "                                 sep =\",\", parseDate=False)\n",
    "dataframe.first()"
   ]
  },
  {
   "cell_type": "code",
   "execution_count": 5,
   "metadata": {
    "collapsed": false
   },
   "outputs": [
    {
     "data": {
      "text/plain": [
       "[('instant', 'int'),\n",
       " ('dteday', 'string'),\n",
       " ('season', 'string'),\n",
       " ('yr', 'int'),\n",
       " ('mnth', 'int'),\n",
       " ('hr', 'int'),\n",
       " ('holiday', 'int'),\n",
       " ('weekday', 'int'),\n",
       " ('workingday', 'int'),\n",
       " ('weathersit', 'string'),\n",
       " ('temp', 'double'),\n",
       " ('atemp', 'double'),\n",
       " ('hum', 'double'),\n",
       " ('windspeed', 'double'),\n",
       " ('casual', 'int'),\n",
       " ('registered', 'int'),\n",
       " ('cnt', 'int')]"
      ]
     },
     "execution_count": 5,
     "metadata": {},
     "output_type": "execute_result"
    }
   ],
   "source": [
    "dataframe.dtypes\n"
   ]
  },
  {
   "cell_type": "code",
   "execution_count": 6,
   "metadata": {
    "collapsed": false
   },
   "outputs": [
    {
     "name": "stdout",
     "output_type": "stream",
     "text": [
      "+-------+------+------+-------------------+-----------------+\n",
      "|summary|dteday|season|                 yr|             mnth|\n",
      "+-------+------+------+-------------------+-----------------+\n",
      "|  count| 17379| 17379|              17379|            17379|\n",
      "|   mean|  null|  null| 0.5025605615973301|6.537775476149376|\n",
      "| stddev|  null|  null|0.49999344348131836|3.438676777528789|\n",
      "|    min|1/1/11|  fall|                  0|                1|\n",
      "|    max|9/9/12|winter|                  1|               12|\n",
      "+-------+------+------+-------------------+-----------------+\n",
      "\n"
     ]
    }
   ],
   "source": [
    "dataframe.describe(dataframe.columns[1:5]).show()"
   ]
  },
  {
   "cell_type": "code",
   "execution_count": 7,
   "metadata": {
    "collapsed": false
   },
   "outputs": [
    {
     "name": "stdout",
     "output_type": "stream",
     "text": [
      "+-------+------+------------------+------------------+------------------+\n",
      "|summary|season|            casual|        registered|               cnt|\n",
      "+-------+------+------------------+------------------+------------------+\n",
      "|  count| 17379|             17379|             17379|             17379|\n",
      "|   mean|  null| 35.67621842453536|153.78686920996606|189.46308763450142|\n",
      "| stddev|  null|49.303611843417976| 151.3529312470881| 181.3823804311691|\n",
      "|    min|  fall|                 0|                 0|                 1|\n",
      "|    max|winter|               367|               886|               977|\n",
      "+-------+------+------------------+------------------+------------------+\n",
      "\n"
     ]
    }
   ],
   "source": [
    "dataframe.describe([\"season\", \"casual\", \"registered\", \"cnt\"]).show()"
   ]
  },
  {
   "cell_type": "code",
   "execution_count": 8,
   "metadata": {
    "collapsed": false
   },
   "outputs": [
    {
     "name": "stdout",
     "output_type": "stream",
     "text": [
      "+-------+------+-----------------+------------------+------------------+\n",
      "|summary|season|           casual|        registered|               cnt|\n",
      "+-------+------+-----------------+------------------+------------------+\n",
      "|  count|  2174|             2174|              2174|              2174|\n",
      "|   mean|  null|18.02989880404784|129.78426862925483|147.81416743330266|\n",
      "| stddev|  null|33.17212128339912|126.00430006459575|143.66992177564128|\n",
      "|    min|spring|                0|                 1|                 1|\n",
      "|    max|spring|              367|               681|               801|\n",
      "+-------+------+-----------------+------------------+------------------+\n",
      "\n"
     ]
    }
   ],
   "source": [
    "(dataframe.filter(\"season = 'spring'\")\n",
    "          .filter(\"yr = 1\")\n",
    "          .describe([\"season\", \"casual\", \"registered\", \"cnt\"])\n",
    "          .show())"
   ]
  },
  {
   "cell_type": "code",
   "execution_count": 9,
   "metadata": {
    "collapsed": false
   },
   "outputs": [
    {
     "name": "stdout",
     "output_type": "stream",
     "text": [
      "+-------+------+------------------+------------------+------------------+\n",
      "|summary|season|            casual|        registered|               cnt|\n",
      "+-------+------+------------------+------------------+------------------+\n",
      "|  count|  2206|              2206|              2206|              2206|\n",
      "|   mean|  null|57.097914777878515|201.86536718041705|258.96328195829557|\n",
      "| stddev|  null| 68.19252002331073|175.92803664307286|215.96898809669364|\n",
      "|    min|summer|                 0|                 0|                 1|\n",
      "|    max|summer|               361|               782|               957|\n",
      "+-------+------+------------------+------------------+------------------+\n",
      "\n"
     ]
    }
   ],
   "source": [
    "(dataframe.filter(\"season = 'summer'\")\n",
    "          .filter(\"yr = 1\")\n",
    "          .describe([\"season\", \"casual\", \"registered\", \"cnt\"])\n",
    "          .show())"
   ]
  },
  {
   "cell_type": "markdown",
   "metadata": {},
   "source": [
    "## Scrub\n",
    "Change string features into integers to be consistent with modeling algorithms"
   ]
  },
  {
   "cell_type": "code",
   "execution_count": 10,
   "metadata": {
    "collapsed": false
   },
   "outputs": [
    {
     "name": "stdout",
     "output_type": "stream",
     "text": [
      "+------+-----+\n",
      "|season|count|\n",
      "+------+-----+\n",
      "|  fall| 4496|\n",
      "|spring| 4242|\n",
      "|summer| 4409|\n",
      "|winter| 4232|\n",
      "+------+-----+\n",
      "\n"
     ]
    }
   ],
   "source": [
    "dataframe.groupBy('season').count().show()"
   ]
  },
  {
   "cell_type": "code",
   "execution_count": 11,
   "metadata": {
    "collapsed": false
   },
   "outputs": [
    {
     "name": "stdout",
     "output_type": "stream",
     "text": [
      "+--+-----+\n",
      "|yr|temp1|\n",
      "+--+-----+\n",
      "| 0|    2|\n",
      "| 0|    2|\n",
      "| 0|    2|\n",
      "| 0|    2|\n",
      "| 0|    2|\n",
      "+--+-----+\n",
      "\n"
     ]
    }
   ],
   "source": [
    "(dataframe.withColumn('temp1', dataframe.yr * 2 + 2)\n",
    "          .select([\"yr\",\"temp1\"])\n",
    "          .show(5))"
   ]
  },
  {
   "cell_type": "code",
   "execution_count": 12,
   "metadata": {
    "collapsed": false
   },
   "outputs": [
    {
     "name": "stdout",
     "output_type": "stream",
     "text": [
      "+-----+-----+\n",
      "|temp2|count|\n",
      "+-----+-----+\n",
      "|    0| 4242|\n",
      "|    1| 4409|\n",
      "|    2| 4496|\n",
      "|    3| 4232|\n",
      "+-----+-----+\n",
      "\n"
     ]
    }
   ],
   "source": [
    "from pyspark.sql import functions as F\n",
    "(dataframe.withColumn('temp2', (F.when(dataframe.season == 'spring',0)\n",
    "                              .when(dataframe.season == 'summer',1)\n",
    "                              .when(dataframe.season == 'fall',2)\n",
    "                              .when(dataframe.season == 'winter',3)\n",
    "                              .otherwise(5)))\n",
    "                              .groupBy('temp2')\n",
    "                              .count()\n",
    "                              .show(5))"
   ]
  },
  {
   "cell_type": "markdown",
   "metadata": {},
   "source": [
    "## Mapping functions over a data set\n",
    "Define a transformation function that applies to a single record and then map it onto each record in a distributed way.\n",
    "\n",
    "Notice that the mapping returns an RDD.\n",
    "Why?\n",
    "\n",
    "    You can do anything in the transformation function - the schema will not be preserved."
   ]
  },
  {
   "cell_type": "code",
   "execution_count": 13,
   "metadata": {
    "collapsed": false,
    "scrolled": true
   },
   "outputs": [
    {
     "name": "stdout",
     "output_type": "stream",
     "text": [
      "Row(instant=8783, dteday=u'1/6/12', season=u'spring', yr=1, mnth=1, hr=18, holiday=0, weekday=5, workingday=1, weathersit=u'clear', temp=0.5, atemp=0.4848, hum=0.29, windspeed=0.2537, casual=28, registered=391, cnt=419)\n",
      "[1, u'1/1/11', 0, 0, 1, 0, 0, 6, 0, u'clear', 0.24, 0.2879, 0.81, 0.0, 3, 13, 16]\n"
     ]
    }
   ],
   "source": [
    "print dataframe.first()\n",
    "\n",
    "def transform_season(record):\n",
    "    new_record = []\n",
    "    for index, entry in enumerate(record):\n",
    "        if index != 2:\n",
    "            new_record.append(entry)\n",
    "        else:\n",
    "            if entry == 'spring':\n",
    "                new_record.append(0)\n",
    "            elif entry == 'summer':\n",
    "                new_record.append(1)\n",
    "            elif entry == 'fall':\n",
    "                new_record.append(2)\n",
    "            elif entry == 'winter':\n",
    "                new_record.append(3)\n",
    "    return new_record\n",
    "\n",
    "transformed_rdd = dataframe.map(transform_season)\n",
    "\n",
    "print transformed_rdd.first()"
   ]
  },
  {
   "cell_type": "markdown",
   "metadata": {},
   "source": [
    "### Apply a schema"
   ]
  },
  {
   "cell_type": "code",
   "execution_count": 14,
   "metadata": {
    "collapsed": false
   },
   "outputs": [],
   "source": [
    "from pyspark.sql.types import *\n",
    "transformed_schema = []\n",
    "old_schema = dataframe.schema\n",
    "for index, field in enumerate(old_schema.fields):\n",
    "    if index != 2:\n",
    "        transformed_schema.append(field)\n",
    "    else:\n",
    "        transformed_schema.append(StructField('season',IntegerType(),True))\n",
    "transformed_schema = StructType(transformed_schema)\n",
    "transformed_df = sqlContext.createDataFrame(transformed_rdd, \n",
    "                                 schema = transformed_schema)\n"
   ]
  },
  {
   "cell_type": "code",
   "execution_count": 15,
   "metadata": {
    "collapsed": false
   },
   "outputs": [
    {
     "data": {
      "text/plain": [
       "Row(instant=1, dteday=u'1/1/11', season=0, yr=0, mnth=1, hr=0, holiday=0, weekday=6, workingday=0, weathersit=u'clear', temp=0.24, atemp=0.2879, hum=0.81, windspeed=0.0, casual=3, registered=13, cnt=16)"
      ]
     },
     "execution_count": 15,
     "metadata": {},
     "output_type": "execute_result"
    }
   ],
   "source": [
    "transformed_df.first()"
   ]
  },
  {
   "cell_type": "code",
   "execution_count": 16,
   "metadata": {
    "collapsed": false
   },
   "outputs": [
    {
     "name": "stdout",
     "output_type": "stream",
     "text": [
      "+------+-----+\n",
      "|season|count|\n",
      "+------+-----+\n",
      "|  fall| 4496|\n",
      "|spring| 4242|\n",
      "|summer| 4409|\n",
      "|winter| 4232|\n",
      "+------+-----+\n",
      "\n"
     ]
    }
   ],
   "source": [
    "dataframe.groupBy('season').count().show()"
   ]
  },
  {
   "cell_type": "markdown",
   "metadata": {},
   "source": [
    "Do the same thing for the weather situation feature"
   ]
  },
  {
   "cell_type": "code",
   "execution_count": 17,
   "metadata": {
    "collapsed": false
   },
   "outputs": [
    {
     "name": "stdout",
     "output_type": "stream",
     "text": [
      "+------------+-----+\n",
      "|  weathersit|count|\n",
      "+------------+-----+\n",
      "|      cloudy| 4544|\n",
      "|heavy precip|    3|\n",
      "|light precip| 1419|\n",
      "|       clear|11413|\n",
      "+------------+-----+\n",
      "\n"
     ]
    }
   ],
   "source": [
    "transformed_df.groupBy('weathersit').count().show()"
   ]
  },
  {
   "cell_type": "code",
   "execution_count": 18,
   "metadata": {
    "collapsed": false
   },
   "outputs": [
    {
     "name": "stdout",
     "output_type": "stream",
     "text": [
      "Row(instant=1, dteday=u'1/1/11', season=0, yr=0, mnth=1, hr=0, holiday=0, weekday=6, workingday=0, weathersit=u'clear', temp=0.24, atemp=0.2879, hum=0.81, windspeed=0.0, casual=3, registered=13, cnt=16) \n",
      "\n",
      "[1, u'1/1/11', 0, 0, 1, 0, 0, 6, 0, 0, 0.24, 0.2879, 0.81, 0.0, 3, 13, 16]\n"
     ]
    }
   ],
   "source": [
    "def transform_weather(record):\n",
    "    new_record = []\n",
    "    for index, entry in enumerate(record):\n",
    "        if index != 9:\n",
    "            new_record.append(entry)\n",
    "        else:\n",
    "            if entry == 'clear':\n",
    "                new_record.append(0)\n",
    "            elif entry == 'cloudy':\n",
    "                new_record.append(1)\n",
    "            elif entry == 'light precip':\n",
    "                new_record.append(2)\n",
    "            elif entry == 'heavy precip':\n",
    "                new_record.append(3)\n",
    "            else:\n",
    "                new_record.append(entry)\n",
    "    return new_record\n",
    "\n",
    "\n",
    "\n",
    "transformed_rdd = transformed_df.map(transform_weather)\n",
    "print transformed_df.first(), \"\\n\"\n",
    "print transformed_rdd.first()"
   ]
  },
  {
   "cell_type": "code",
   "execution_count": 19,
   "metadata": {
    "collapsed": false
   },
   "outputs": [],
   "source": [
    "from pyspark.sql.types import *\n",
    "transformed_schema = []\n",
    "old_schema = transformed_df.schema\n",
    "for index, field in enumerate(old_schema.fields):\n",
    "    if index != 9:\n",
    "        transformed_schema.append(field)\n",
    "    else:\n",
    "        transformed_schema.append(StructField('weathersit',IntegerType(),True))\n",
    "transformed_schema = StructType(transformed_schema)\n",
    "transformed_df = sqlContext.createDataFrame(transformed_rdd, \n",
    "                                 schema = transformed_schema)\n"
   ]
  },
  {
   "cell_type": "code",
   "execution_count": 20,
   "metadata": {
    "collapsed": false
   },
   "outputs": [
    {
     "data": {
      "text/plain": [
       "Row(instant=1, dteday=u'1/1/11', season=0, yr=0, mnth=1, hr=0, holiday=0, weekday=6, workingday=0, weathersit=0, temp=0.24, atemp=0.2879, hum=0.81, windspeed=0.0, casual=3, registered=13, cnt=16)"
      ]
     },
     "execution_count": 20,
     "metadata": {},
     "output_type": "execute_result"
    }
   ],
   "source": [
    "transformed_df.first()"
   ]
  },
  {
   "cell_type": "markdown",
   "metadata": {},
   "source": [
    "## Explore"
   ]
  },
  {
   "cell_type": "markdown",
   "metadata": {},
   "source": [
    "### Univariate stats"
   ]
  },
  {
   "cell_type": "code",
   "execution_count": 21,
   "metadata": {
    "collapsed": false
   },
   "outputs": [
    {
     "name": "stdout",
     "output_type": "stream",
     "text": [
      "+-------+------------------+-------------------+-------------------+\n",
      "|summary|            season|               temp|          windspeed|\n",
      "+-------+------------------+-------------------+-------------------+\n",
      "|  count|             17379|              17379|              17379|\n",
      "|   mean|1.5016399102364923|0.49698716842164814|  0.190097606306452|\n",
      "| stddev|  1.10688629256209|0.19255058126209854|0.12233670875036765|\n",
      "|    min|                 0|               0.02|                0.0|\n",
      "|    max|                 3|                1.0|             0.8507|\n",
      "+-------+------------------+-------------------+-------------------+\n",
      "\n"
     ]
    }
   ],
   "source": [
    "transformed_df['season','temp', 'windspeed'].describe().show()"
   ]
  },
  {
   "cell_type": "markdown",
   "metadata": {},
   "source": [
    "### Bivariate stats"
   ]
  },
  {
   "cell_type": "code",
   "execution_count": 22,
   "metadata": {
    "collapsed": false
   },
   "outputs": [
    {
     "name": "stdout",
     "output_type": "stream",
     "text": [
      "+-----------------+----+----+---+-+\n",
      "|season_weathersit|   0|   1|  2|3|\n",
      "+-----------------+----+----+---+-+\n",
      "|                2|3280| 947|269|0|\n",
      "|                1|2859|1144|406|0|\n",
      "|                3|2609|1248|375|0|\n",
      "|                0|2665|1205|369|3|\n",
      "+-----------------+----+----+---+-+\n",
      "\n"
     ]
    }
   ],
   "source": [
    "transformed_df.crosstab(\"season\", \"weathersit\").show()"
   ]
  },
  {
   "cell_type": "code",
   "execution_count": 23,
   "metadata": {
    "collapsed": false
   },
   "outputs": [
    {
     "name": "stdout",
     "output_type": "stream",
     "text": [
      "13 0.396276166065\n",
      "14 0.378465467714\n",
      "15 0.388162260163\n",
      "16 0.551861291267\n",
      "17 0.587931522618\n",
      "18 0.601333819698\n",
      "19 0.677768466383\n",
      "20 0.710147294589\n"
     ]
    }
   ],
   "source": [
    "for hr in range(13,21):\n",
    "    hr_corr = transformed_df.filter(\"hr = \" + str(hr)).corr('temp', 'cnt')\n",
    "    print hr, hr_corr"
   ]
  },
  {
   "cell_type": "markdown",
   "metadata": {},
   "source": [
    "### Visualization\n",
    "\n",
    "Remember - graphics get rendered locally, so all data has to come to the driver node.   \n",
    "  \n",
    "For small data this is no problem.  \n",
    "For big data, consider either sampling or using distributed binning to lighten the load on the local machine."
   ]
  },
  {
   "cell_type": "code",
   "execution_count": 24,
   "metadata": {
    "collapsed": false
   },
   "outputs": [],
   "source": [
    "import matplotlib\n",
    "if (not sc):\n",
    "    matplotlib.use(\"tkagg\")\n",
    "else:\n",
    "    %matplotlib inline\n",
    "import pylab as plt"
   ]
  },
  {
   "cell_type": "code",
   "execution_count": 25,
   "metadata": {
    "collapsed": false
   },
   "outputs": [
    {
     "data": {
      "image/png": "[encoded data removed]",
      "text/plain": [
       "<matplotlib.figure.Figure at 0x7f85089f0f10>"
      ]
     },
     "metadata": {},
     "output_type": "display_data"
    }
   ],
   "source": [
    "count = 1\n",
    "for hr in [13, 20]:\n",
    "    temp_data = (transformed_df\n",
    "                 .filter(\"hr = \" + str(hr))\n",
    "                 .select(\"temp\", \"cnt\")\n",
    "                 .toPandas())\n",
    "    plt.subplot(1,2,count)\n",
    "    plt.scatter(x = temp_data['temp'], y = temp_data['cnt'])\n",
    "    plt.title(\"Hour = \" + str(hr))\n",
    "    if count == 1:\n",
    "        plt.ylabel(\"Total riders\")\n",
    "    plt.xlabel(\"Temperature\")\n",
    "    count = count + 1"
   ]
  },
  {
   "cell_type": "markdown",
   "metadata": {},
   "source": [
    "## Model"
   ]
  },
  {
   "cell_type": "markdown",
   "metadata": {},
   "source": [
    "### Prepare data for modeling"
   ]
  },
  {
   "cell_type": "code",
   "execution_count": 26,
   "metadata": {
    "collapsed": false
   },
   "outputs": [
    {
     "name": "stdout",
     "output_type": "stream",
     "text": [
      "    0         instant                    9      weathersit\n",
      "    1          dteday                   10            temp\n",
      "    2          season                   11           atemp\n",
      "    3              yr                   12             hum\n",
      "    4            mnth                   13       windspeed\n",
      "    5              hr                   14          casual\n",
      "    6         holiday                   15      registered\n",
      "    7         weekday                   16             cnt\n",
      "    8      workingday\n"
     ]
    }
   ],
   "source": [
    "for index, x in enumerate(transformed_df.columns[0:9]):\n",
    "    if index < 8:\n",
    "        print \"%5i %15s %20i %15s\" %(index, x, index + 9, \n",
    "                                 transformed_df.columns[index + 9])\n",
    "    else:\n",
    "        print \"%5i %15s\" %(index, x)"
   ]
  },
  {
   "cell_type": "markdown",
   "metadata": {},
   "source": [
    "#### Scale the data"
   ]
  },
  {
   "cell_type": "code",
   "execution_count": 27,
   "metadata": {
    "collapsed": false
   },
   "outputs": [],
   "source": [
    "fields_to_model = [\"temp\", \"atemp\", \"hum\", \"windspeed\"]\n",
    "stats = transformed_df.describe(fields_to_model).collect()\n",
    "\n",
    "for index, i in enumerate(fields_to_model):\n",
    "    col_avg = float(stats[1][index + 1])\n",
    "    col_stdev = float(stats[2][index + 1])\n",
    "    transformed_df = transformed_df.withColumn(i + '_norm', \n",
    "                                               (transformed_df[i] - col_avg)/col_stdev)\n",
    "\n",
    "                                 "
   ]
  },
  {
   "cell_type": "code",
   "execution_count": 28,
   "metadata": {
    "collapsed": false
   },
   "outputs": [
    {
     "name": "stdout",
     "output_type": "stream",
     "text": [
      "+-------+-------------------+-------------------+--------------------+--------------------+\n",
      "|summary|               temp|              atemp|           temp_norm|          atemp_norm|\n",
      "+-------+-------------------+-------------------+--------------------+--------------------+\n",
      "|  count|              17379|              17379|               17379|               17379|\n",
      "|   mean|0.49698716842164814| 0.4757751021347599|-1.77459141933407...|-1.39578575088677...|\n",
      "| stddev|0.19255058126209854|0.17184527137252026|  1.0000000000002938|  0.9999999999971958|\n",
      "|    min|               0.02|                0.0| -2.4772045106058256|   -2.76862492830718|\n",
      "|    max|                1.0|                1.0|   2.612367245433343|  3.0505634148474168|\n",
      "+-------+-------------------+-------------------+--------------------+--------------------+\n",
      "\n"
     ]
    }
   ],
   "source": [
    "(transformed_df.describe([\"temp\", \"atemp\", \n",
    "                         \"temp_norm\", \"atemp_norm\"])\n",
    "               .show())"
   ]
  },
  {
   "cell_type": "markdown",
   "metadata": {},
   "source": [
    "#### Get data into labeled point format"
   ]
  },
  {
   "cell_type": "code",
   "execution_count": 29,
   "metadata": {
    "collapsed": false
   },
   "outputs": [
    {
     "name": "stdout",
     "output_type": "stream",
     "text": [
      "    0                   instant     1                    dteday \n",
      "    2                    season     3                        yr \n",
      "    4                      mnth     5                        hr \n",
      "    6                   holiday     7                   weekday \n",
      "    8                workingday     9                weathersit \n",
      "   10                      temp    11                     atemp \n",
      "   12                       hum    13                 windspeed \n",
      "   14                    casual    15                registered \n",
      "   16                       cnt    17                 temp_norm \n",
      "   18                atemp_norm    19                  hum_norm \n",
      "   20            windspeed_norm\n"
     ]
    }
   ],
   "source": [
    "for index, name in enumerate(transformed_df.columns):\n",
    "    print \"%5s           %15s\" %(index, name),\n",
    "    if index % 2 == 1:\n",
    "        print \"\""
   ]
  },
  {
   "cell_type": "code",
   "execution_count": 30,
   "metadata": {
    "collapsed": false
   },
   "outputs": [],
   "source": [
    "from pyspark.mllib.regression import LabeledPoint\n",
    "parsedData_rdd = transformed_df.map(lambda x: LabeledPoint(x[16], x[17:21]))"
   ]
  },
  {
   "cell_type": "code",
   "execution_count": 31,
   "metadata": {
    "collapsed": false
   },
   "outputs": [
    {
     "name": "stdout",
     "output_type": "stream",
     "text": [
      "Row(instant=8783, dteday=u'1/6/12', season=0, yr=1, mnth=1, hr=18, holiday=0, weekday=5, workingday=1, weathersit=0, temp=0.5, atemp=0.4848, hum=0.29, windspeed=0.2537, casual=28, registered=391, cnt=419, temp_norm=0.01564696173988938, atemp_norm=0.05251758045416876, hum_norm=-1.7479854458725692, windspeed_norm=0.5198962301983621)\n",
      "(16.0,[-1.33464758578,-1.09328060431,0.947372499967,-1.55388851187])\n"
     ]
    }
   ],
   "source": [
    "print transformed_df.first()\n",
    "print parsedData_rdd.first()"
   ]
  },
  {
   "cell_type": "markdown",
   "metadata": {},
   "source": [
    "### Linear regression with spark.mllib"
   ]
  },
  {
   "cell_type": "markdown",
   "metadata": {},
   "source": [
    "#### Build a model"
   ]
  },
  {
   "cell_type": "code",
   "execution_count": 32,
   "metadata": {
    "collapsed": false
   },
   "outputs": [
    {
     "name": "stdout",
     "output_type": "stream",
     "text": [
      "[(16.0, -69.795497536228737)]\n",
      "[(16.0, 80.151612795304885)]\n",
      "[(16.0, 38.980791912671492)]\n",
      "[(16.0, 45.570038003298464)]\n",
      "[(16.0, 45.995501613163526)]\n",
      "[(16.0, 46.240263108209746)]\n",
      "[(16.0, 46.397717646423558)]\n",
      "[(16.0, 46.506093131568093)]\n",
      "[(16.0, 46.584454020705465)]\n"
     ]
    }
   ],
   "source": [
    "from pyspark.mllib.regression import LinearRegressionWithSGD, LinearRegressionModel\n",
    "nrecords = float(parsedData_rdd.count())\n",
    "errors = []\n",
    "for num_iter in range(1,10):\n",
    "    #Train Model\n",
    "    model = LinearRegressionWithSGD.train(parsedData_rdd, intercept = True, \n",
    "                                          iterations = num_iter, step = 1)\n",
    "    #Evaluate Model\n",
    "    valuesAndPreds = parsedData_rdd.map(lambda x:(x.label, model.predict(x.features)))\n",
    "    testMAE = valuesAndPreds.map(lambda (v, p): abs(v - p)).sum() / nrecords\n",
    "    errors.append(testMAE)\n",
    "    print valuesAndPreds.take(1)\n"
   ]
  },
  {
   "cell_type": "code",
   "execution_count": 33,
   "metadata": {
    "collapsed": false
   },
   "outputs": [
    {
     "data": {
      "image/png": "[encoded data removed]",
      "text/plain": [
       "<matplotlib.figure.Figure at 0x7f85086b8a50>"
      ]
     },
     "metadata": {},
     "output_type": "display_data"
    }
   ],
   "source": [
    "temp = plt.plot(range(1, 10),errors)"
   ]
  },
  {
   "cell_type": "code",
   "execution_count": 34,
   "metadata": {
    "collapsed": false
   },
   "outputs": [
    {
     "data": {
      "image/png": "[encoded data removed]",
      "text/plain": [
       "<matplotlib.figure.Figure at 0x7f8508781910>"
      ]
     },
     "metadata": {},
     "output_type": "display_data"
    }
   ],
   "source": [
    "valuesAndPreds_local = valuesAndPreds.collect()\n",
    "\n",
    "temp = plt.scatter([x[1] for x in valuesAndPreds_local],\n",
    "                   [x[0] for x in valuesAndPreds_local])\n",
    "plt.xlabel(\"prediction\")\n",
    "plt.ylabel(\"value\")\n",
    "temp = plt.title(\"Linear Regression\")"
   ]
  },
  {
   "cell_type": "markdown",
   "metadata": {},
   "source": [
    "### Random Forest with MLlib"
   ]
  },
  {
   "cell_type": "code",
   "execution_count": 35,
   "metadata": {
    "collapsed": false
   },
   "outputs": [],
   "source": [
    "from pyspark.mllib.tree import RandomForest\n",
    "errors = []\n",
    "for num_trees in range(1, 101, 10):\n",
    "    model = RandomForest.trainRegressor(parsedData_rdd, {}, \n",
    "                                        numTrees = num_trees, maxDepth = 10, \n",
    "                                        seed=42)\n",
    "    #Evaluate Model\n",
    "    predictions = model.predict(parsedData_rdd.map(lambda x: x.features))\n",
    "    valuesAndPreds = parsedData_rdd.map(lambda x: x.label).zip(predictions)\n",
    "    testMAE = (valuesAndPreds.map(lambda (v, p): abs(v - p))\n",
    "                             .sum() / nrecords)\n",
    "    errors.append(testMAE)"
   ]
  },
  {
   "cell_type": "code",
   "execution_count": 36,
   "metadata": {
    "collapsed": false
   },
   "outputs": [
    {
     "data": {
      "image/png": "[encoded data removed]",
      "text/plain": [
       "<matplotlib.figure.Figure at 0x7f85089377d0>"
      ]
     },
     "metadata": {},
     "output_type": "display_data"
    }
   ],
   "source": [
    "# Plot Errors\n",
    "temp = plt.plot(range(1, 101, 10),errors)"
   ]
  },
  {
   "cell_type": "markdown",
   "metadata": {},
   "source": [
    "#### Add categorical features"
   ]
  },
  {
   "cell_type": "code",
   "execution_count": 37,
   "metadata": {
    "collapsed": false
   },
   "outputs": [
    {
     "name": "stdout",
     "output_type": "stream",
     "text": [
      "    0                   instant     1                    dteday \n",
      "    2                    season     3                        yr \n",
      "    4                      mnth     5                        hr \n",
      "    6                   holiday     7                   weekday \n",
      "    8                workingday     9                weathersit \n",
      "   10                      temp    11                     atemp \n",
      "   12                       hum    13                 windspeed \n",
      "   14                    casual    15                registered \n",
      "   16                       cnt    17                 temp_norm \n",
      "   18                atemp_norm    19                  hum_norm \n",
      "   20            windspeed_norm\n"
     ]
    }
   ],
   "source": [
    "for index, name in enumerate(transformed_df.columns):\n",
    "    print \"%5s           %15s\" %(index, name),\n",
    "    if index % 2 == 1:\n",
    "        print \"\""
   ]
  },
  {
   "cell_type": "code",
   "execution_count": 38,
   "metadata": {
    "collapsed": false
   },
   "outputs": [
    {
     "name": "stdout",
     "output_type": "stream",
     "text": [
      "+-------+------------------+-------------------+------------------+-----------------+\n",
      "|summary|            season|                 yr|                hr|             mnth|\n",
      "+-------+------------------+-------------------+------------------+-----------------+\n",
      "|  count|             17379|              17379|             17379|            17379|\n",
      "|   mean|1.5016399102364923| 0.5025605615973301|11.546751826917545|6.537775476149376|\n",
      "| stddev|  1.10688629256209|0.49999344348131836| 6.914206162513383|3.438676777528789|\n",
      "|    min|                 0|                  0|                 0|                1|\n",
      "|    max|                 3|                  1|                23|               12|\n",
      "+-------+------------------+-------------------+------------------+-----------------+\n",
      "\n"
     ]
    }
   ],
   "source": [
    "transformed_df.describe(\"season\",\"yr\", \"hr\", \"mnth\", ).show()"
   ]
  },
  {
   "cell_type": "code",
   "execution_count": 39,
   "metadata": {
    "collapsed": false
   },
   "outputs": [
    {
     "name": "stdout",
     "output_type": "stream",
     "text": [
      "+-------+--------------------+------------------+------------------+------------------+\n",
      "|summary|             holiday|           weekday|        workingday|        weathersit|\n",
      "+-------+--------------------+------------------+------------------+------------------+\n",
      "|  count|               17379|             17379|             17379|             17379|\n",
      "|   mean|0.028770355026181024| 3.003682605443351|0.6827205247712756|0.4252833879970079|\n",
      "| stddev| 0.16716046691083547|2.0057137485239487|0.4654172427266846|0.6393384829652758|\n",
      "|    min|                   0|                 0|                 0|                 0|\n",
      "|    max|                   1|                 6|                 1|                 3|\n",
      "+-------+--------------------+------------------+------------------+------------------+\n",
      "\n"
     ]
    }
   ],
   "source": [
    "transformed_df.describe(\"holiday\", \"weekday\", \"workingday\", \"weathersit\").show()"
   ]
  },
  {
   "cell_type": "code",
   "execution_count": 40,
   "metadata": {
    "collapsed": false
   },
   "outputs": [
    {
     "name": "stdout",
     "output_type": "stream",
     "text": [
      "Row(season=0, yr=1, mnth2=0, hr=18, holiday=0, weekday=5, workingday=1, weathersit=0, temp=0.5, atemp=0.4848, hum=0.29, windspeed=0.2537, cnt=419)\n",
      "10 20 30 40 50 60 70 \n"
     ]
    }
   ],
   "source": [
    "parsedData_rdd2 = (transformed_df.withColumn(\"mnth2\", transformed_df.mnth - 1)\n",
    "                                .select(\"season\", \"yr\", \"mnth2\", \"hr\",\n",
    "                                       \"holiday\", \"weekday\", \"workingday\", \"weathersit\",\n",
    "                                       \"temp\", \"atemp\", \"hum\", \"windspeed\", \"cnt\"))\n",
    "print parsedData_rdd2.first()\n",
    "parsedData_rdd2 = (parsedData_rdd2.map(lambda x: LabeledPoint(x[12], x[0:12])))\n",
    "\n",
    "errors = []\n",
    "for num_trees in range(10, 71, 10):\n",
    "    print num_trees, \n",
    "    model = RandomForest.trainRegressor(parsedData_rdd2, {0:4, 1:2, 2:12, 3:24, 4:2, \n",
    "                                                          5:7, 6:2, 7:4}, \n",
    "                                        numTrees = num_trees, maxDepth = 10, seed=23)\n",
    "    #Evaluate Model\n",
    "    predictions = model.predict(parsedData_rdd2.map(lambda x: x.features))\n",
    "    valuesAndPreds = (parsedData_rdd2.map(lambda x: x.label)\n",
    "                      .zip(predictions))\n",
    "    testMAE = valuesAndPreds.map(lambda (v, p): \n",
    "                                  abs(v - p)).sum()/ nrecords\n",
    "    errors.append(testMAE) \n",
    "print \"\""
   ]
  },
  {
   "cell_type": "code",
   "execution_count": 41,
   "metadata": {
    "collapsed": false
   },
   "outputs": [
    {
     "data": {
      "image/png": "[encoded data removed]",
      "text/plain": [
       "<matplotlib.figure.Figure at 0x7f85032ac6d0>"
      ]
     },
     "metadata": {},
     "output_type": "display_data"
    }
   ],
   "source": [
    "# Plot Errors\n",
    "temp = plt.plot(range(10, 71, 10),errors)"
   ]
  },
  {
   "cell_type": "code",
   "execution_count": 42,
   "metadata": {
    "collapsed": false
   },
   "outputs": [
    {
     "name": "stdout",
     "output_type": "stream",
     "text": [
      "80 90 100 \n"
     ]
    }
   ],
   "source": [
    "#parsedData_rdd2 = (transformed_df.withColumn(\"mnth2\", transformed_df.mnth - 1)\n",
    "#                                .select(\"season\", \"yr\", \"mnth2\", \"hr\",\n",
    "#                                       \"holiday\", \"weekday\", \"workingday\", \"weathersit\",\n",
    "#                                       \"temp\", \"atemp\", \"hum\", \"windspeed\", \"cnt\"))\n",
    "#print parsedData_rdd2.first()\n",
    "#parsedData_rdd2 = (parsedData_rdd2.map(lambda x: LabeledPoint(x[12], x[0:12])))\n",
    "\n",
    "#errors = []\n",
    "for num_trees in range(80, 101, 10):\n",
    "    print num_trees, \n",
    "    model = RandomForest.trainRegressor(parsedData_rdd2, {0:4, 1:2, 2:12, 3:24, 4:2, \n",
    "                                                          5:7, 6:2, 7:4}, \n",
    "                                        numTrees = num_trees, maxDepth = 10, seed=23)\n",
    "    #Evaluate Model\n",
    "    predictions = model.predict(parsedData_rdd2.map(lambda x: x.features))\n",
    "    valuesAndPreds = (parsedData_rdd2.map(lambda x: x.label)\n",
    "                      .zip(predictions))\n",
    "    testMAE = valuesAndPreds.map(lambda (v, p): \n",
    "                                  abs(v - p)).sum()/ nrecords\n",
    "    errors.append(testMAE) \n",
    "print \"\""
   ]
  },
  {
   "cell_type": "code",
   "execution_count": 43,
   "metadata": {
    "collapsed": false
   },
   "outputs": [
    {
     "data": {
      "image/png": "[encoded data removed]",
      "text/plain": [
       "<matplotlib.figure.Figure at 0x7f8503239190>"
      ]
     },
     "metadata": {},
     "output_type": "display_data"
    }
   ],
   "source": [
    "# Plot Errors\n",
    "temp = plt.plot(range(10, 101, 10),errors)"
   ]
  },
  {
   "cell_type": "code",
   "execution_count": 44,
   "metadata": {
    "collapsed": false
   },
   "outputs": [
    {
     "data": {
      "image/png": "[encoded data removed]",
      "text/plain": [
       "<matplotlib.figure.Figure at 0x7f85031904d0>"
      ]
     },
     "metadata": {},
     "output_type": "display_data"
    }
   ],
   "source": [
    "valuesAndPreds_local = valuesAndPreds.collect()\n",
    "\n",
    "temp = plt.scatter([x[1] for x in valuesAndPreds_local],\n",
    "                   [x[0] for x in valuesAndPreds_local])\n",
    "plt.xlabel(\"prediction\")\n",
    "plt.ylabel(\"value\")\n",
    "temp = plt.title(\"Random Forest\")"
   ]
  },
  {
   "cell_type": "markdown",
   "metadata": {},
   "source": [
    "### Linear Regression with spark.ml"
   ]
  },
  {
   "cell_type": "code",
   "execution_count": 45,
   "metadata": {
    "collapsed": false
   },
   "outputs": [
    {
     "data": {
      "text/plain": [
       "Row(label=419.0, features=DenseVector([0.0156, 0.0525, -1.748, 0.5199]))"
      ]
     },
     "execution_count": 45,
     "metadata": {},
     "output_type": "execute_result"
    }
   ],
   "source": [
    "# Put data into right format\n",
    "\n",
    "from pyspark.mllib.linalg import Vectors\n",
    "\n",
    "temp = transformed_df.map(lambda x: (float(x[16]), Vectors.dense(x[17:21])))\n",
    "parsedData_df = sqlContext.createDataFrame(temp, [\"label\", \"features\"])\n",
    "parsedData_df.first()"
   ]
  },
  {
   "cell_type": "code",
   "execution_count": 46,
   "metadata": {
    "collapsed": false
   },
   "outputs": [
    {
     "data": {
      "image/png": "[encoded data removed]",
      "text/plain": [
       "<matplotlib.figure.Figure at 0x7f85080b6950>"
      ]
     },
     "metadata": {},
     "output_type": "display_data"
    }
   ],
   "source": [
    "from pyspark.ml.regression import LinearRegression\n",
    "errors = []\n",
    "for num_iter in range(1,10):\n",
    "    # Define model\n",
    "    lr = LinearRegression(maxIter=num_iter, regParam=0.0)\n",
    "    # Fit model\n",
    "    lrModel = lr.fit(parsedData_df)\n",
    "    # Predict model\n",
    "    predictions = lrModel.transform(parsedData_df.select(\"features\"))\n",
    "    # Evaluate model\n",
    "    valuesAndPreds = parsedData_df.select(\"label\").rdd.zip(predictions.rdd)\n",
    "    testMAE = valuesAndPreds.map(lambda (v, p): abs(v.label - p.prediction)\n",
    "                                ).sum() / nrecords\n",
    "    errors.append(testMAE)   \n",
    "# Plot Errors\n",
    "temp = plt.plot(range(1,10),errors)"
   ]
  },
  {
   "cell_type": "code",
   "execution_count": null,
   "metadata": {
    "collapsed": true
   },
   "outputs": [],
   "source": []
  }
 ],
 "metadata": {
  "kernelspec": {
   "display_name": "Python 2",
   "language": "python",
   "name": "python2"
  },
  "language_info": {
   "codemirror_mode": {
    "name": "ipython",
    "version": 2
   },
   "file_extension": ".py",
   "mimetype": "text/x-python",
   "name": "python",
   "nbconvert_exporter": "python",
   "pygments_lexer": "ipython2",
   "version": "2.7.9"
  }
 },
 "nbformat": 4,
 "nbformat_minor": 0
}
